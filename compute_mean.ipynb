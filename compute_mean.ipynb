{
 "cells": [
  {
   "cell_type": "markdown",
   "id": "54d8b38a-0f14-4329-bf35-92c5401efd46",
   "metadata": {},
   "source": [
    "# Chelsea Cayabyab\n",
    "Notebook for assignment 7"
   ]
  },
  {
   "cell_type": "code",
   "execution_count": 1,
   "id": "25257f68-aefe-400c-8b6f-3afbd2d7af13",
   "metadata": {},
   "outputs": [
    {
     "name": "stdout",
     "output_type": "stream",
     "text": [
      "5.0\n"
     ]
    }
   ],
   "source": [
    "def compute_mean (num_list):\n",
    "    mean = sum(num_list) / len(num_list)\n",
    "    print(f'{mean}')\n",
    "\n",
    "compute_mean([2,4,6,8])"
   ]
  },
  {
   "cell_type": "markdown",
   "id": "452e08d9-ea93-485e-9bf3-7175fff5c8c5",
   "metadata": {},
   "source": [
    "The `compute_mean` function takes in a `list` of values as input and calculates and prints the average of the values using the following formula:\n",
    "\n",
    "$$\n",
    "\\bar{x} = \\frac{{x}_1 + {x}_2 + ... + {x}_n}{n} = \\frac{1}{n} \\left( \\sum_{i=1}^{n} x_i \\right)\n",
    "$$"
   ]
  }
 ],
 "metadata": {
  "kernelspec": {
   "display_name": "Python [conda env:jupyterlab_practice]",
   "language": "python",
   "name": "conda-env-jupyterlab_practice-py"
  },
  "language_info": {
   "codemirror_mode": {
    "name": "ipython",
    "version": 3
   },
   "file_extension": ".py",
   "mimetype": "text/x-python",
   "name": "python",
   "nbconvert_exporter": "python",
   "pygments_lexer": "ipython3",
   "version": "3.13.2"
  }
 },
 "nbformat": 4,
 "nbformat_minor": 5
}
