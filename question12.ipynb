{
 "cells": [
  {
   "cell_type": "markdown",
   "id": "438aab29-dfe1-4871-88fa-c1858d4115f4",
   "metadata": {},
   "source": [
    "We are currently working in the following directory:"
   ]
  },
  {
   "cell_type": "code",
   "execution_count": 1,
   "id": "d3c9bcd6-f760-4ae4-b380-dbe46c0b9295",
   "metadata": {},
   "outputs": [
    {
     "name": "stdout",
     "output_type": "stream",
     "text": [
      "\n",
      "# conda environments:\n",
      "#\n",
      "base                   C:\\Users\\CMPC\\miniconda3\n",
      "dstoolbox              C:\\Users\\CMPC\\miniconda3\\envs\\dstoolbox\n",
      "jupyterlab_practice  * C:\\Users\\CMPC\\miniconda3\\envs\\jupyterlab_practice\n",
      "\n"
     ]
    }
   ],
   "source": [
    "!conda env list"
   ]
  },
  {
   "cell_type": "markdown",
   "id": "603ad4ee-b367-4013-918f-004dbd6eaeea",
   "metadata": {},
   "source": [
    "To time how long it takes to run a Python cell, we could use the `timeit` command inside a cell as is shown below: \n",
    "```\n",
    "%%timeit\n",
    "```\n",
    "Followed by the proper use of the timeit command to time the following loop:\n",
    "```python\n",
    "for i in range(1_000_000):\n",
    "    i**2\n",
    "```"
   ]
  },
  {
   "cell_type": "code",
   "execution_count": 2,
   "id": "328f2527-b8df-47d7-9ade-48e1c6f93ea3",
   "metadata": {},
   "outputs": [
    {
     "name": "stderr",
     "output_type": "stream",
     "text": [
      "[NbConvertApp] Converting notebook question12.ipynb to html\n",
      "[NbConvertApp] Writing 271570 bytes to question12.html\n"
     ]
    }
   ],
   "source": [
    "!jupyter nbconvert question12.ipynb \\\n",
    "     --to html \\\n",
    "     --output=question12.html \\\n",
    "     --no-input"
   ]
  }
 ],
 "metadata": {
  "kernelspec": {
   "display_name": "Python [conda env:jupyterlab_practice]",
   "language": "python",
   "name": "conda-env-jupyterlab_practice-py"
  },
  "language_info": {
   "codemirror_mode": {
    "name": "ipython",
    "version": 3
   },
   "file_extension": ".py",
   "mimetype": "text/x-python",
   "name": "python",
   "nbconvert_exporter": "python",
   "pygments_lexer": "ipython3",
   "version": "3.13.2"
  }
 },
 "nbformat": 4,
 "nbformat_minor": 5
}
